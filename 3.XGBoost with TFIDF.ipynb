{
 "cells": [
  {
   "cell_type": "code",
   "execution_count": 312,
   "metadata": {},
   "outputs": [],
   "source": [
    "import pandas as pd\n",
    "import numpy as np\n",
    "import matplotlib.pyplot as plt\n",
    "from xgboost import XGBClassifier, DMatrix\n",
    "from sklearn.model_selection import train_test_split\n",
    "from sklearn import metrics\n",
    "import _pickle as pickle\n",
    "import seaborn as sns\n",
    "import random\n",
    "from imblearn.under_sampling import CondensedNearestNeighbour\n",
    "from imblearn.over_sampling import SMOTE\n"
   ]
  },
  {
   "cell_type": "code",
   "execution_count": 302,
   "metadata": {},
   "outputs": [],
   "source": [
    "raw_df = pd.read_csv(\"processed_data/tfidf_df.csv\")\n",
    "vectorizer = pickle.load(open(\"processed_data/tfidf_vectorizer.pkl\", \"rb\"))\n",
    "y_map = {k: i for i, k in enumerate(raw_df.topic_area.unique())}\n",
    "raw_df.topic_area = raw_df.topic_area.apply(lambda x: y_map[x])\n"
   ]
  },
  {
   "cell_type": "code",
   "execution_count": 314,
   "metadata": {},
   "outputs": [],
   "source": [
    "## https://stackoverflow.com/questions/44114463/stratified-sampling-in-pandas\n",
    "def stratified_sample_df(df, col, n_samples, random_state=69, save=False):\n",
    "    n = min(n_samples, df[col].value_counts().min())\n",
    "    df_ = df.groupby(col).apply(lambda x: x.sample(n, random_state=random_state))\n",
    "    df_.index = df_.index.droplevel(0)\n",
    "    if save:\n",
    "        df_.to_csv(\"processed_data/tfidf_df_random.csv\")\n",
    "    return df_\n",
    "\n",
    "\n",
    "def cnn_sample_df(df, random_state=69, save=False):\n",
    "    cnn = CondensedNearestNeighbour(\n",
    "        random_state=random_state, sampling_strategy=\"majority\"\n",
    "    )\n",
    "    X, y = cnn.fit_resample(df.iloc[:, :-1], df.iloc[:, -1])\n",
    "    res = X.copy()\n",
    "    res[\"topic_area\"] = y.tolist()\n",
    "    if save:\n",
    "        res.to_csv(\"processed_data/tfidf_df_cnn.csv\")\n",
    "    return res\n",
    "\n",
    "\n",
    "def smote_sample_df(df, random_state=69, save=False):\n",
    "    smote = SMOTE(random_state=random_state)\n",
    "    X, y = smote.fit_resample(df.iloc[:, :-1], df.iloc[:, -1])\n",
    "    res = X.copy()\n",
    "    res[\"topic_area\"] = y.tolist()\n",
    "    if save:\n",
    "        res.to_csv(\"processed_data/tfidf_df_smote.csv\")\n",
    "    return res\n"
   ]
  },
  {
   "cell_type": "code",
   "execution_count": 315,
   "metadata": {},
   "outputs": [],
   "source": [
    "## random undersampling\n",
    "df = stratified_sample_df(raw_df, \"topic_area\", 50)\n",
    "\n",
    "## condensed nearest neighbours\n",
    "# df = cnn_sample_df(raw_df)\n",
    "\n",
    "## smote oversampling\n",
    "# df = smote_sample_df(raw_df)\n",
    "\n",
    "\n",
    "X = df.iloc[:, :-1]\n",
    "y = df.iloc[:, -1]\n"
   ]
  },
  {
   "cell_type": "code",
   "execution_count": 316,
   "metadata": {},
   "outputs": [
    {
     "data": {
      "text/plain": [
       "0    10000\n",
       "1    10000\n",
       "2    10000\n",
       "3    10000\n",
       "4    10000\n",
       "5    10000\n",
       "6    10000\n",
       "Name: topic_area, dtype: int64"
      ]
     },
     "execution_count": 316,
     "metadata": {},
     "output_type": "execute_result"
    }
   ],
   "source": [
    "y.value_counts()"
   ]
  },
  {
   "cell_type": "code",
   "execution_count": 317,
   "metadata": {},
   "outputs": [],
   "source": [
    "X_train, X_test, y_train, y_test = train_test_split(\n",
    "    X, y, test_size=0.2, stratify=y, random_state=69\n",
    ")\n"
   ]
  },
  {
   "cell_type": "code",
   "execution_count": 318,
   "metadata": {},
   "outputs": [
    {
     "name": "stderr",
     "output_type": "stream",
     "text": [
      "/usr/local/lib/python3.9/site-packages/xgboost/data.py:262: FutureWarning: pandas.Int64Index is deprecated and will be removed from pandas in a future version. Use pandas.Index with the appropriate dtype instead.\n",
      "  elif isinstance(data.columns, (pd.Int64Index, pd.RangeIndex)):\n"
     ]
    }
   ],
   "source": [
    "model = XGBClassifier(\n",
    "    objective=\"multi:softmax\",\n",
    "    num_class=len(y_train.unique()),\n",
    "    colsample_bytree=0.2,\n",
    "    subsample=0.7,\n",
    "    random_state=69,\n",
    "    max_depth=4,\n",
    "    eval_metric=\"merror\",\n",
    "    use_label_encoder=False,\n",
    ")\n",
    "\n",
    "model.fit(X_train, y_train)\n",
    "\n",
    "y_pred = model.predict(X_test)\n",
    "y_pred_prob = model.predict_proba(X_test)\n"
   ]
  },
  {
   "cell_type": "code",
   "execution_count": 319,
   "metadata": {},
   "outputs": [],
   "source": [
    "pickle.dump(model, open(\"saved_models/tfidf_model.pkl\", \"wb\"))\n"
   ]
  },
  {
   "cell_type": "code",
   "execution_count": 320,
   "metadata": {},
   "outputs": [],
   "source": [
    "accuracy = metrics.accuracy_score(y_test, y_pred)\n",
    "roc = metrics.roc_auc_score(y_test, y_pred_prob, multi_class=\"ovr\")\n",
    "class_report = metrics.classification_report(y_test, y_pred)\n",
    "confusion_matrix = metrics.confusion_matrix(y_test, y_pred)\n"
   ]
  },
  {
   "cell_type": "markdown",
   "metadata": {},
   "source": [
    "# Visualisations"
   ]
  },
  {
   "cell_type": "code",
   "execution_count": 321,
   "metadata": {},
   "outputs": [
    {
     "name": "stdout",
     "output_type": "stream",
     "text": [
      "              precision    recall  f1-score   support\n",
      "\n",
      "           0       1.00      1.00      1.00      2000\n",
      "           1       1.00      1.00      1.00      2000\n",
      "           2       1.00      1.00      1.00      2000\n",
      "           3       1.00      1.00      1.00      2000\n",
      "           4       1.00      1.00      1.00      2000\n",
      "           5       1.00      1.00      1.00      2000\n",
      "           6       1.00      1.00      1.00      2000\n",
      "\n",
      "    accuracy                           1.00     14000\n",
      "   macro avg       1.00      1.00      1.00     14000\n",
      "weighted avg       1.00      1.00      1.00     14000\n",
      "\n"
     ]
    }
   ],
   "source": [
    "print(class_report)\n"
   ]
  },
  {
   "cell_type": "code",
   "execution_count": 322,
   "metadata": {},
   "outputs": [
    {
     "data": {
      "image/png": "[encoded data removed]",
      "text/plain": [
       "<Figure size 432x288 with 2 Axes>"
      ]
     },
     "metadata": {
      "needs_background": "light"
     },
     "output_type": "display_data"
    }
   ],
   "source": [
    "## Confusion Matrix\n",
    "sns.heatmap(\n",
    "    confusion_matrix / np.sum(confusion_matrix), fmt=\".2%\", annot=True, cmap=\"Blues\"\n",
    ")\n",
    "plt.show()\n"
   ]
  },
  {
   "cell_type": "code",
   "execution_count": 323,
   "metadata": {},
   "outputs": [
    {
     "data": {
      "text/plain": [
       "<matplotlib.legend.Legend at 0x1400479d0>"
      ]
     },
     "execution_count": 323,
     "metadata": {},
     "output_type": "execute_result"
    },
    {
     "data": {
      "image/png": "[encoded data removed]",
      "text/plain": [
       "<Figure size 432x288 with 1 Axes>"
      ]
     },
     "metadata": {
      "needs_background": "light"
     },
     "output_type": "display_data"
    }
   ],
   "source": [
    "## https://scikit-learn.org/stable/auto_examples/model_selection/plot_roc.html\n",
    "classes = y.unique()\n",
    "y_test_array = pd.get_dummies(y_test, drop_first=False).values\n",
    "fig, ax = plt.subplots()\n",
    "for i in range(len(classes)):\n",
    "    fpr, tpr, thresholds = metrics.roc_curve(y_test_array[:, i], y_pred_prob[:, i])\n",
    "    ax.plot(\n",
    "        fpr,\n",
    "        tpr,\n",
    "        lw=3,\n",
    "        label=\"{0} (area={1:0.2f})\".format(classes[i], metrics.auc(fpr, tpr)),\n",
    "    )\n",
    "ax.plot([0, 1], [0, 1], color=\"blue\", linestyle=\"--\")\n",
    "ax.legend()\n"
   ]
  },
  {
   "cell_type": "code",
   "execution_count": 324,
   "metadata": {},
   "outputs": [
    {
     "data": {
      "text/plain": [
       "<matplotlib.legend.Legend at 0x155a65bb0>"
      ]
     },
     "execution_count": 324,
     "metadata": {},
     "output_type": "execute_result"
    },
    {
     "data": {
      "image/png": "[encoded data removed]",
      "text/plain": [
       "<Figure size 432x288 with 1 Axes>"
      ]
     },
     "metadata": {
      "needs_background": "light"
     },
     "output_type": "display_data"
    }
   ],
   "source": [
    "classes = y.unique()\n",
    "y_test_array = pd.get_dummies(y_test, drop_first=False).values\n",
    "fig, ax = plt.subplots()\n",
    "for i in range(len(classes)):\n",
    "    precision, recall, thresholds = metrics.precision_recall_curve(\n",
    "        y_test_array[:, i], y_pred_prob[:, i]\n",
    "    )\n",
    "    ax.plot(\n",
    "        precision,\n",
    "        recall,\n",
    "        lw=3,\n",
    "        label=\"{0} (area={1:0.2f})\".format(classes[i], metrics.auc(recall, precision)),\n",
    "    )\n",
    "ax.legend()\n"
   ]
  },
  {
   "cell_type": "code",
   "execution_count": null,
   "metadata": {},
   "outputs": [],
   "source": []
  }
 ],
 "metadata": {
  "interpreter": {
   "hash": "aee8b7b246df8f9039afb4144a1f6fd8d2ca17a180786b69acc140d282b71a49"
  },
  "kernelspec": {
   "display_name": "Python 3.9.8 64-bit",
   "language": "python",
   "name": "python3"
  },
  "language_info": {
   "codemirror_mode": {
    "name": "ipython",
    "version": 3
   },
   "file_extension": ".py",
   "mimetype": "text/x-python",
   "name": "python",
   "nbconvert_exporter": "python",
   "pygments_lexer": "ipython3",
   "version": "3.9.8"
  },
  "orig_nbformat": 4
 },
 "nbformat": 4,
 "nbformat_minor": 2
}
